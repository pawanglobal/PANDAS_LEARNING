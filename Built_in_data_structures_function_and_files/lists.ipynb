{
 "cells": [
  {
   "cell_type": "code",
   "execution_count": 1,
   "id": "77c44473",
   "metadata": {},
   "outputs": [],
   "source": [
    "#lists are vaiable lengths, which means they are mutable"
   ]
  },
  {
   "cell_type": "code",
   "execution_count": 2,
   "id": "98a565d0",
   "metadata": {},
   "outputs": [],
   "source": [
    "a_list = [2, 3, 4, None]"
   ]
  },
  {
   "cell_type": "code",
   "execution_count": 3,
   "id": "000dbac6",
   "metadata": {},
   "outputs": [
    {
     "data": {
      "text/plain": [
       "[2, 3, 4, None]"
      ]
     },
     "execution_count": 3,
     "metadata": {},
     "output_type": "execute_result"
    }
   ],
   "source": [
    "a_list"
   ]
  },
  {
   "cell_type": "code",
   "execution_count": 4,
   "id": "d886481e",
   "metadata": {},
   "outputs": [],
   "source": [
    "tup = ('foo', 'bar', 'baz')"
   ]
  },
  {
   "cell_type": "code",
   "execution_count": 5,
   "id": "42492596",
   "metadata": {},
   "outputs": [],
   "source": [
    "b_list = list(tup)"
   ]
  },
  {
   "cell_type": "code",
   "execution_count": 6,
   "id": "f2aeb924",
   "metadata": {},
   "outputs": [
    {
     "data": {
      "text/plain": [
       "['foo', 'bar', 'baz']"
      ]
     },
     "execution_count": 6,
     "metadata": {},
     "output_type": "execute_result"
    }
   ],
   "source": [
    "b_list"
   ]
  },
  {
   "cell_type": "code",
   "execution_count": 7,
   "id": "0e6d7735",
   "metadata": {},
   "outputs": [
    {
     "data": {
      "text/plain": [
       "'bar'"
      ]
     },
     "execution_count": 7,
     "metadata": {},
     "output_type": "execute_result"
    }
   ],
   "source": [
    "b_list[1]"
   ]
  },
  {
   "cell_type": "code",
   "execution_count": 8,
   "id": "ed5a773c",
   "metadata": {},
   "outputs": [],
   "source": [
    "#list function is frequently used in data processing as a way to marterialize\n",
    "#an iterator or generator expression"
   ]
  },
  {
   "cell_type": "code",
   "execution_count": 9,
   "id": "86652729",
   "metadata": {},
   "outputs": [],
   "source": [
    "gen = range(10)"
   ]
  },
  {
   "cell_type": "code",
   "execution_count": 10,
   "id": "f76e0cac",
   "metadata": {},
   "outputs": [
    {
     "data": {
      "text/plain": [
       "range(0, 10)"
      ]
     },
     "execution_count": 10,
     "metadata": {},
     "output_type": "execute_result"
    }
   ],
   "source": [
    "gen"
   ]
  },
  {
   "cell_type": "code",
   "execution_count": 11,
   "id": "a640aec4",
   "metadata": {},
   "outputs": [
    {
     "data": {
      "text/plain": [
       "[0, 1, 2, 3, 4, 5, 6, 7, 8, 9]"
      ]
     },
     "execution_count": 11,
     "metadata": {},
     "output_type": "execute_result"
    }
   ],
   "source": [
    "list(gen)"
   ]
  },
  {
   "cell_type": "code",
   "execution_count": 12,
   "id": "13c3bbd8",
   "metadata": {},
   "outputs": [],
   "source": [
    "#adding and removing elements"
   ]
  },
  {
   "cell_type": "code",
   "execution_count": 13,
   "id": "f550c2d0",
   "metadata": {},
   "outputs": [],
   "source": [
    "b_list.append('you')"
   ]
  },
  {
   "cell_type": "code",
   "execution_count": 14,
   "id": "2d2a3d5a",
   "metadata": {},
   "outputs": [
    {
     "data": {
      "text/plain": [
       "['foo', 'bar', 'baz', 'you']"
      ]
     },
     "execution_count": 14,
     "metadata": {},
     "output_type": "execute_result"
    }
   ],
   "source": [
    "b_list"
   ]
  },
  {
   "cell_type": "code",
   "execution_count": 15,
   "id": "f18bc14e",
   "metadata": {},
   "outputs": [],
   "source": [
    "#insert"
   ]
  },
  {
   "cell_type": "code",
   "execution_count": 17,
   "id": "54f125a7",
   "metadata": {},
   "outputs": [],
   "source": [
    "b_list.insert(1, 'red')"
   ]
  },
  {
   "cell_type": "code",
   "execution_count": 18,
   "id": "1aae3a40",
   "metadata": {},
   "outputs": [
    {
     "data": {
      "text/plain": [
       "['foo', 'red', 'bar', 'baz', 'you']"
      ]
     },
     "execution_count": 18,
     "metadata": {},
     "output_type": "execute_result"
    }
   ],
   "source": [
    "b_list"
   ]
  },
  {
   "cell_type": "code",
   "execution_count": 19,
   "id": "c9415b66",
   "metadata": {},
   "outputs": [],
   "source": [
    "#pop inverse of insert"
   ]
  },
  {
   "cell_type": "code",
   "execution_count": 20,
   "id": "cca6d2f7",
   "metadata": {},
   "outputs": [
    {
     "data": {
      "text/plain": [
       "'bar'"
      ]
     },
     "execution_count": 20,
     "metadata": {},
     "output_type": "execute_result"
    }
   ],
   "source": [
    "b_list.pop(2)"
   ]
  },
  {
   "cell_type": "code",
   "execution_count": 21,
   "id": "00f1fe69",
   "metadata": {},
   "outputs": [
    {
     "data": {
      "text/plain": [
       "['foo', 'red', 'baz', 'you']"
      ]
     },
     "execution_count": 21,
     "metadata": {},
     "output_type": "execute_result"
    }
   ],
   "source": [
    "b_list"
   ]
  },
  {
   "cell_type": "code",
   "execution_count": 22,
   "id": "14660ea7",
   "metadata": {},
   "outputs": [],
   "source": [
    "#elements can be removed by value"
   ]
  },
  {
   "cell_type": "code",
   "execution_count": 23,
   "id": "58e7dfad",
   "metadata": {},
   "outputs": [],
   "source": [
    "b_list.remove('red')"
   ]
  },
  {
   "cell_type": "code",
   "execution_count": 24,
   "id": "f82ba9ba",
   "metadata": {},
   "outputs": [
    {
     "data": {
      "text/plain": [
       "['foo', 'baz', 'you']"
      ]
     },
     "execution_count": 24,
     "metadata": {},
     "output_type": "execute_result"
    }
   ],
   "source": [
    "b_list"
   ]
  },
  {
   "cell_type": "code",
   "execution_count": 25,
   "id": "e9f79c08",
   "metadata": {},
   "outputs": [],
   "source": [
    "#check if a list contains particualr value"
   ]
  },
  {
   "cell_type": "code",
   "execution_count": 26,
   "id": "af37133a",
   "metadata": {},
   "outputs": [
    {
     "data": {
      "text/plain": [
       "True"
      ]
     },
     "execution_count": 26,
     "metadata": {},
     "output_type": "execute_result"
    }
   ],
   "source": [
    "'baz' in b_list"
   ]
  },
  {
   "cell_type": "code",
   "execution_count": 27,
   "id": "8898de84",
   "metadata": {},
   "outputs": [
    {
     "data": {
      "text/plain": [
       "True"
      ]
     },
     "execution_count": 27,
     "metadata": {},
     "output_type": "execute_result"
    }
   ],
   "source": [
    "'dwarf' not in b_list"
   ]
  },
  {
   "cell_type": "code",
   "execution_count": 28,
   "id": "d8d958c6",
   "metadata": {},
   "outputs": [],
   "source": [
    "#concatenating and combining lists"
   ]
  },
  {
   "cell_type": "code",
   "execution_count": 29,
   "id": "e06c3a11",
   "metadata": {},
   "outputs": [
    {
     "data": {
      "text/plain": [
       "[4, 'string', None, 2, 'you', False, (2, 3), 5]"
      ]
     },
     "execution_count": 29,
     "metadata": {},
     "output_type": "execute_result"
    }
   ],
   "source": [
    "[4, 'string', None] + [2, 'you', False] + [(2,3), 5]"
   ]
  },
  {
   "cell_type": "code",
   "execution_count": 30,
   "id": "3945249f",
   "metadata": {},
   "outputs": [],
   "source": [
    "#extend to append multiple elements"
   ]
  },
  {
   "cell_type": "code",
   "execution_count": 31,
   "id": "dc8d1e73",
   "metadata": {},
   "outputs": [],
   "source": [
    "x = [2, 3]"
   ]
  },
  {
   "cell_type": "code",
   "execution_count": 32,
   "id": "870a72fb",
   "metadata": {},
   "outputs": [],
   "source": [
    "x.extend(['you', 'are'])"
   ]
  },
  {
   "cell_type": "code",
   "execution_count": 33,
   "id": "59205a30",
   "metadata": {},
   "outputs": [
    {
     "data": {
      "text/plain": [
       "[2, 3, 'you', 'are']"
      ]
     },
     "execution_count": 33,
     "metadata": {},
     "output_type": "execute_result"
    }
   ],
   "source": [
    "x"
   ]
  },
  {
   "cell_type": "code",
   "execution_count": 34,
   "id": "0bf87b44",
   "metadata": {},
   "outputs": [],
   "source": [
    "#sort"
   ]
  },
  {
   "cell_type": "code",
   "execution_count": 35,
   "id": "1fd0828b",
   "metadata": {},
   "outputs": [],
   "source": [
    "a = [1, 2, 3, 5, 3, 2, 4, 5, 2, 0]"
   ]
  },
  {
   "cell_type": "code",
   "execution_count": 36,
   "id": "1776fd3d",
   "metadata": {},
   "outputs": [],
   "source": [
    "a.sort()"
   ]
  },
  {
   "cell_type": "code",
   "execution_count": 37,
   "id": "edb53161",
   "metadata": {},
   "outputs": [
    {
     "data": {
      "text/plain": [
       "[0, 1, 2, 2, 2, 3, 3, 4, 5, 5]"
      ]
     },
     "execution_count": 37,
     "metadata": {},
     "output_type": "execute_result"
    }
   ],
   "source": [
    "a"
   ]
  },
  {
   "cell_type": "code",
   "execution_count": 38,
   "id": "25569960",
   "metadata": {},
   "outputs": [],
   "source": [
    "#sort a collection of strings by their lengths"
   ]
  },
  {
   "cell_type": "code",
   "execution_count": 39,
   "id": "720d3d67",
   "metadata": {},
   "outputs": [],
   "source": [
    "b = ['hi', 'u', 'great', 'expensive']"
   ]
  },
  {
   "cell_type": "code",
   "execution_count": 43,
   "id": "98d513cb",
   "metadata": {},
   "outputs": [],
   "source": [
    "b.sort(key=len)"
   ]
  },
  {
   "cell_type": "code",
   "execution_count": 44,
   "id": "864f0385",
   "metadata": {},
   "outputs": [
    {
     "data": {
      "text/plain": [
       "['u', 'hi', 'great', 'expensive']"
      ]
     },
     "execution_count": 44,
     "metadata": {},
     "output_type": "execute_result"
    }
   ],
   "source": [
    "b"
   ]
  },
  {
   "cell_type": "code",
   "execution_count": 45,
   "id": "b590239e",
   "metadata": {},
   "outputs": [],
   "source": [
    "#Binary search and maintaining a sorted list"
   ]
  },
  {
   "cell_type": "code",
   "execution_count": 46,
   "id": "a3c2359f",
   "metadata": {},
   "outputs": [],
   "source": [
    "import bisect"
   ]
  },
  {
   "cell_type": "code",
   "execution_count": 53,
   "id": "bd7339e9",
   "metadata": {},
   "outputs": [],
   "source": [
    "c = [1, 3, 4, 3, 5, 5]"
   ]
  },
  {
   "cell_type": "code",
   "execution_count": 54,
   "id": "90222437",
   "metadata": {},
   "outputs": [
    {
     "data": {
      "text/plain": [
       "6"
      ]
     },
     "execution_count": 54,
     "metadata": {},
     "output_type": "execute_result"
    }
   ],
   "source": [
    "bisect.bisect(c, 8)"
   ]
  },
  {
   "cell_type": "code",
   "execution_count": 55,
   "id": "939c05c7",
   "metadata": {},
   "outputs": [
    {
     "data": {
      "text/plain": [
       "4"
      ]
     },
     "execution_count": 55,
     "metadata": {},
     "output_type": "execute_result"
    }
   ],
   "source": [
    "bisect.bisect(c, 4) #where the number should be inserted"
   ]
  },
  {
   "cell_type": "code",
   "execution_count": 56,
   "id": "c61accb9",
   "metadata": {},
   "outputs": [],
   "source": [
    "bisect.insort(c, 0 ) #inserts the element"
   ]
  },
  {
   "cell_type": "code",
   "execution_count": 57,
   "id": "b710a961",
   "metadata": {},
   "outputs": [
    {
     "data": {
      "text/plain": [
       "[0, 1, 3, 4, 3, 5, 5]"
      ]
     },
     "execution_count": 57,
     "metadata": {},
     "output_type": "execute_result"
    }
   ],
   "source": [
    "c"
   ]
  },
  {
   "cell_type": "code",
   "execution_count": 58,
   "id": "117250c6",
   "metadata": {},
   "outputs": [],
   "source": [
    "#slicing, to select a portion of the list"
   ]
  },
  {
   "cell_type": "code",
   "execution_count": 3,
   "id": "1596b11c",
   "metadata": {},
   "outputs": [],
   "source": [
    "seq = [1, 3, 5, 4, 2, 4]"
   ]
  },
  {
   "cell_type": "code",
   "execution_count": 60,
   "id": "c20a1e3a",
   "metadata": {},
   "outputs": [
    {
     "data": {
      "text/plain": [
       "[3, 5, 4]"
      ]
     },
     "execution_count": 60,
     "metadata": {},
     "output_type": "execute_result"
    }
   ],
   "source": [
    "seq[1:4]"
   ]
  },
  {
   "cell_type": "code",
   "execution_count": 61,
   "id": "91444809",
   "metadata": {},
   "outputs": [],
   "source": [
    "#slices can also be assigned to with a sequence"
   ]
  },
  {
   "cell_type": "code",
   "execution_count": 62,
   "id": "20192d3d",
   "metadata": {},
   "outputs": [],
   "source": [
    "seq[3:4] = [3,2]"
   ]
  },
  {
   "cell_type": "code",
   "execution_count": 5,
   "id": "198e465e",
   "metadata": {},
   "outputs": [
    {
     "data": {
      "text/plain": [
       "[1, 3, 5, 4, 2, 4]"
      ]
     },
     "execution_count": 5,
     "metadata": {},
     "output_type": "execute_result"
    }
   ],
   "source": [
    "seq"
   ]
  },
  {
   "cell_type": "code",
   "execution_count": 1,
   "id": "e74d4c19",
   "metadata": {},
   "outputs": [],
   "source": [
    "##"
   ]
  },
  {
   "cell_type": "code",
   "execution_count": 4,
   "id": "28ba6175",
   "metadata": {},
   "outputs": [
    {
     "data": {
      "text/plain": [
       "[1, 3]"
      ]
     },
     "execution_count": 4,
     "metadata": {},
     "output_type": "execute_result"
    }
   ],
   "source": [
    "seq[:2]"
   ]
  },
  {
   "cell_type": "code",
   "execution_count": 6,
   "id": "c6f1f997",
   "metadata": {},
   "outputs": [
    {
     "data": {
      "text/plain": [
       "[5, 4, 2, 4]"
      ]
     },
     "execution_count": 6,
     "metadata": {},
     "output_type": "execute_result"
    }
   ],
   "source": [
    "seq[2:]"
   ]
  },
  {
   "cell_type": "code",
   "execution_count": 7,
   "id": "2042803b",
   "metadata": {},
   "outputs": [],
   "source": [
    "#negative indices"
   ]
  },
  {
   "cell_type": "code",
   "execution_count": 8,
   "id": "e53d58a2",
   "metadata": {},
   "outputs": [
    {
     "data": {
      "text/plain": [
       "4"
      ]
     },
     "execution_count": 8,
     "metadata": {},
     "output_type": "execute_result"
    }
   ],
   "source": [
    "seq[-1]"
   ]
  },
  {
   "cell_type": "code",
   "execution_count": 9,
   "id": "5e35adce",
   "metadata": {},
   "outputs": [
    {
     "data": {
      "text/plain": [
       "[1, 3, 5, 4]"
      ]
     },
     "execution_count": 9,
     "metadata": {},
     "output_type": "execute_result"
    }
   ],
   "source": [
    "seq[:-2]"
   ]
  },
  {
   "cell_type": "code",
   "execution_count": 10,
   "id": "01913ca6",
   "metadata": {},
   "outputs": [
    {
     "data": {
      "text/plain": [
       "[2, 4]"
      ]
     },
     "execution_count": 10,
     "metadata": {},
     "output_type": "execute_result"
    }
   ],
   "source": [
    "seq[-2:]"
   ]
  },
  {
   "cell_type": "code",
   "execution_count": 11,
   "id": "e64653a9",
   "metadata": {},
   "outputs": [
    {
     "data": {
      "text/plain": [
       "[4]"
      ]
     },
     "execution_count": 11,
     "metadata": {},
     "output_type": "execute_result"
    }
   ],
   "source": [
    "seq[-3:-2]"
   ]
  },
  {
   "cell_type": "code",
   "execution_count": 12,
   "id": "d79978f6",
   "metadata": {},
   "outputs": [
    {
     "data": {
      "text/plain": [
       "[1, 5, 2]"
      ]
     },
     "execution_count": 12,
     "metadata": {},
     "output_type": "execute_result"
    }
   ],
   "source": [
    "seq[::2]"
   ]
  },
  {
   "cell_type": "code",
   "execution_count": null,
   "id": "443a9cd8",
   "metadata": {},
   "outputs": [],
   "source": [
    "##for every other element"
   ]
  },
  {
   "cell_type": "code",
   "execution_count": 13,
   "id": "6095d4a8",
   "metadata": {},
   "outputs": [
    {
     "data": {
      "text/plain": [
       "[1, 4]"
      ]
     },
     "execution_count": 13,
     "metadata": {},
     "output_type": "execute_result"
    }
   ],
   "source": [
    "seq[::3]"
   ]
  },
  {
   "cell_type": "code",
   "execution_count": 14,
   "id": "6d427ce8",
   "metadata": {},
   "outputs": [],
   "source": [
    "#Built-in Sequence Functions"
   ]
  },
  {
   "cell_type": "code",
   "execution_count": 15,
   "id": "9a78af3f",
   "metadata": {},
   "outputs": [],
   "source": [
    "#enumerate"
   ]
  },
  {
   "cell_type": "code",
   "execution_count": 16,
   "id": "cb1f56a4",
   "metadata": {},
   "outputs": [],
   "source": [
    "some_list = ['foo', 'bar', 'baz']\n",
    "mapping = {}\n",
    "for i, v in enumerate(some_list):\n",
    "    mapping[v] = i"
   ]
  },
  {
   "cell_type": "code",
   "execution_count": 17,
   "id": "dd4fe840",
   "metadata": {},
   "outputs": [
    {
     "data": {
      "text/plain": [
       "{'foo': 0, 'bar': 1, 'baz': 2}"
      ]
     },
     "execution_count": 17,
     "metadata": {},
     "output_type": "execute_result"
    }
   ],
   "source": [
    "mapping"
   ]
  },
  {
   "cell_type": "code",
   "execution_count": 18,
   "id": "caa0003f",
   "metadata": {},
   "outputs": [],
   "source": [
    "#sorted"
   ]
  },
  {
   "cell_type": "code",
   "execution_count": 19,
   "id": "d744472e",
   "metadata": {},
   "outputs": [
    {
     "data": {
      "text/plain": [
       "[0, 3, 3, 4, 5, 8]"
      ]
     },
     "execution_count": 19,
     "metadata": {},
     "output_type": "execute_result"
    }
   ],
   "source": [
    "sorted([3, 4, 8, 3, 5, 0])"
   ]
  },
  {
   "cell_type": "code",
   "execution_count": 20,
   "id": "7b7a42f7",
   "metadata": {},
   "outputs": [
    {
     "data": {
      "text/plain": [
       "[' ', 'a', 'c', 'e', 'e', 'h', 'o', 'r', 'r', 's']"
      ]
     },
     "execution_count": 20,
     "metadata": {},
     "output_type": "execute_result"
    }
   ],
   "source": [
    "sorted('horse race')"
   ]
  },
  {
   "cell_type": "code",
   "execution_count": 22,
   "id": "122dc2ab",
   "metadata": {},
   "outputs": [],
   "source": [
    "#zip\n",
    "##zip 'pairs' up the elements of a number of lists, tuples, or other sequences to create a list of \n",
    "##tuples"
   ]
  },
  {
   "cell_type": "code",
   "execution_count": 51,
   "id": "ff365a87",
   "metadata": {},
   "outputs": [],
   "source": [
    "seq1 = ['a', 'b', 'c']"
   ]
  },
  {
   "cell_type": "code",
   "execution_count": 48,
   "id": "2f0fb6db",
   "metadata": {},
   "outputs": [],
   "source": [
    "seq2 = ['1', '2', '3']"
   ]
  },
  {
   "cell_type": "code",
   "execution_count": 59,
   "id": "cce9231b",
   "metadata": {},
   "outputs": [
    {
     "ename": "TypeError",
     "evalue": "'list' object is not callable",
     "output_type": "error",
     "traceback": [
      "\u001b[1;31m---------------------------------------------------------------------------\u001b[0m",
      "\u001b[1;31mTypeError\u001b[0m                                 Traceback (most recent call last)",
      "Input \u001b[1;32mIn [59]\u001b[0m, in \u001b[0;36m<cell line: 1>\u001b[1;34m()\u001b[0m\n\u001b[1;32m----> 1\u001b[0m zipped \u001b[38;5;241m=\u001b[39m \u001b[38;5;28;43mzip\u001b[39;49m\u001b[43m(\u001b[49m\u001b[43mseq1\u001b[49m\u001b[43m,\u001b[49m\u001b[43m \u001b[49m\u001b[43mseq2\u001b[49m\u001b[43m)\u001b[49m\n",
      "\u001b[1;31mTypeError\u001b[0m: 'list' object is not callable"
     ]
    }
   ],
   "source": [
    "zipped = zip(seq1, seq2)"
   ]
  },
  {
   "cell_type": "code",
   "execution_count": 60,
   "id": "69bb1bed",
   "metadata": {},
   "outputs": [
    {
     "ename": "NameError",
     "evalue": "name 'zipped' is not defined",
     "output_type": "error",
     "traceback": [
      "\u001b[1;31m---------------------------------------------------------------------------\u001b[0m",
      "\u001b[1;31mNameError\u001b[0m                                 Traceback (most recent call last)",
      "Input \u001b[1;32mIn [60]\u001b[0m, in \u001b[0;36m<cell line: 1>\u001b[1;34m()\u001b[0m\n\u001b[1;32m----> 1\u001b[0m \u001b[38;5;28mlist\u001b[39m(\u001b[43mzipped\u001b[49m)\n",
      "\u001b[1;31mNameError\u001b[0m: name 'zipped' is not defined"
     ]
    }
   ],
   "source": [
    "list(zipped)"
   ]
  },
  {
   "cell_type": "code",
   "execution_count": 61,
   "id": "717a876e",
   "metadata": {},
   "outputs": [],
   "source": [
    "seq3 = [False, True]"
   ]
  },
  {
   "cell_type": "code",
   "execution_count": 62,
   "id": "9c5803fe",
   "metadata": {},
   "outputs": [
    {
     "ename": "TypeError",
     "evalue": "'list' object is not callable",
     "output_type": "error",
     "traceback": [
      "\u001b[1;31m---------------------------------------------------------------------------\u001b[0m",
      "\u001b[1;31mTypeError\u001b[0m                                 Traceback (most recent call last)",
      "Input \u001b[1;32mIn [62]\u001b[0m, in \u001b[0;36m<cell line: 1>\u001b[1;34m()\u001b[0m\n\u001b[1;32m----> 1\u001b[0m \u001b[38;5;28mlist\u001b[39m(\u001b[38;5;28;43mzip\u001b[39;49m\u001b[43m(\u001b[49m\u001b[43mseq1\u001b[49m\u001b[43m,\u001b[49m\u001b[43m \u001b[49m\u001b[43mseq2\u001b[49m\u001b[43m,\u001b[49m\u001b[43m \u001b[49m\u001b[43mseq3\u001b[49m\u001b[43m)\u001b[49m)\n",
      "\u001b[1;31mTypeError\u001b[0m: 'list' object is not callable"
     ]
    }
   ],
   "source": [
    "list(zip(seq1, seq2, seq3))"
   ]
  },
  {
   "cell_type": "code",
   "execution_count": 63,
   "id": "39bf8b86",
   "metadata": {},
   "outputs": [],
   "source": [
    "#zip for iterate with enumerate"
   ]
  },
  {
   "cell_type": "code",
   "execution_count": 65,
   "id": "ba695fbd",
   "metadata": {},
   "outputs": [
    {
     "ename": "TypeError",
     "evalue": "'list' object is not callable",
     "output_type": "error",
     "traceback": [
      "\u001b[1;31m---------------------------------------------------------------------------\u001b[0m",
      "\u001b[1;31mTypeError\u001b[0m                                 Traceback (most recent call last)",
      "Input \u001b[1;32mIn [65]\u001b[0m, in \u001b[0;36m<cell line: 1>\u001b[1;34m()\u001b[0m\n\u001b[1;32m----> 1\u001b[0m \u001b[38;5;28;01mfor\u001b[39;00m i, (a,b) \u001b[38;5;129;01min\u001b[39;00m \u001b[38;5;28menumerate\u001b[39m(\u001b[38;5;28;43mzip\u001b[39;49m\u001b[43m(\u001b[49m\u001b[43mseq1\u001b[49m\u001b[43m,\u001b[49m\u001b[43m \u001b[49m\u001b[43mseq2\u001b[49m\u001b[43m)\u001b[49m):\n\u001b[0;32m      2\u001b[0m     \u001b[38;5;28mprint\u001b[39m([\u001b[38;5;124m'\u001b[39m\u001b[38;5;132;01m{0}\u001b[39;00m\u001b[38;5;124m, \u001b[39m\u001b[38;5;132;01m{1}\u001b[39;00m\u001b[38;5;124m, \u001b[39m\u001b[38;5;132;01m{2}\u001b[39;00m\u001b[38;5;124m'\u001b[39m\u001b[38;5;241m.\u001b[39mformat(i, a, b)])\n",
      "\u001b[1;31mTypeError\u001b[0m: 'list' object is not callable"
     ]
    }
   ],
   "source": [
    "for i, (a,b) in enumerate(zip(seq1, seq2)):\n",
    "    print(['{0}, {1}, {2}'.format(i, a, b)])"
   ]
  },
  {
   "cell_type": "code",
   "execution_count": 66,
   "id": "66c29c80",
   "metadata": {},
   "outputs": [],
   "source": [
    "#unzip"
   ]
  },
  {
   "cell_type": "code",
   "execution_count": 67,
   "id": "bf554344",
   "metadata": {},
   "outputs": [],
   "source": [
    "pitchers = [('Nolan', 'Ryan'), ('Roger', 'Clemens'), ('Scho', 'Hoe')]"
   ]
  },
  {
   "cell_type": "code",
   "execution_count": 68,
   "id": "73f46758",
   "metadata": {},
   "outputs": [
    {
     "ename": "TypeError",
     "evalue": "'list' object is not callable",
     "output_type": "error",
     "traceback": [
      "\u001b[1;31m---------------------------------------------------------------------------\u001b[0m",
      "\u001b[1;31mTypeError\u001b[0m                                 Traceback (most recent call last)",
      "Input \u001b[1;32mIn [68]\u001b[0m, in \u001b[0;36m<cell line: 1>\u001b[1;34m()\u001b[0m\n\u001b[1;32m----> 1\u001b[0m first_names, last_names \u001b[38;5;241m=\u001b[39m \u001b[38;5;28;43mzip\u001b[39;49m\u001b[43m(\u001b[49m\u001b[38;5;241;43m*\u001b[39;49m\u001b[43mpitchers\u001b[49m\u001b[43m)\u001b[49m\n",
      "\u001b[1;31mTypeError\u001b[0m: 'list' object is not callable"
     ]
    }
   ],
   "source": [
    "first_names, last_names = zip(*pitchers)"
   ]
  },
  {
   "cell_type": "code",
   "execution_count": 69,
   "id": "9cb957cc",
   "metadata": {},
   "outputs": [],
   "source": [
    "#reversed"
   ]
  },
  {
   "cell_type": "code",
   "execution_count": 70,
   "id": "ec69db03",
   "metadata": {},
   "outputs": [
    {
     "data": {
      "text/plain": [
       "[9, 8, 7, 6, 5, 4, 3, 2, 1, 0]"
      ]
     },
     "execution_count": 70,
     "metadata": {},
     "output_type": "execute_result"
    }
   ],
   "source": [
    "list(reversed(range(10)))"
   ]
  },
  {
   "cell_type": "code",
   "execution_count": null,
   "id": "4a975613",
   "metadata": {},
   "outputs": [],
   "source": []
  }
 ],
 "metadata": {
  "kernelspec": {
   "display_name": "Python 3 (ipykernel)",
   "language": "python",
   "name": "python3"
  },
  "language_info": {
   "codemirror_mode": {
    "name": "ipython",
    "version": 3
   },
   "file_extension": ".py",
   "mimetype": "text/x-python",
   "name": "python",
   "nbconvert_exporter": "python",
   "pygments_lexer": "ipython3",
   "version": "3.10.5"
  }
 },
 "nbformat": 4,
 "nbformat_minor": 5
}
