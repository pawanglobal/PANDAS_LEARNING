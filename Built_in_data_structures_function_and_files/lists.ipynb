{
 "cells": [
  {
   "cell_type": "code",
   "execution_count": 1,
   "id": "77c44473",
   "metadata": {},
   "outputs": [],
   "source": [
    "#lists are vaiable lengths, which means they are mutable"
   ]
  },
  {
   "cell_type": "code",
   "execution_count": 2,
   "id": "98a565d0",
   "metadata": {},
   "outputs": [],
   "source": [
    "a_list = [2, 3, 4, None]"
   ]
  },
  {
   "cell_type": "code",
   "execution_count": 3,
   "id": "000dbac6",
   "metadata": {},
   "outputs": [
    {
     "data": {
      "text/plain": [
       "[2, 3, 4, None]"
      ]
     },
     "execution_count": 3,
     "metadata": {},
     "output_type": "execute_result"
    }
   ],
   "source": [
    "a_list"
   ]
  },
  {
   "cell_type": "code",
   "execution_count": 4,
   "id": "d886481e",
   "metadata": {},
   "outputs": [],
   "source": [
    "tup = ('foo', 'bar', 'baz')"
   ]
  },
  {
   "cell_type": "code",
   "execution_count": 5,
   "id": "42492596",
   "metadata": {},
   "outputs": [],
   "source": [
    "b_list = list(tup)"
   ]
  },
  {
   "cell_type": "code",
   "execution_count": 6,
   "id": "f2aeb924",
   "metadata": {},
   "outputs": [
    {
     "data": {
      "text/plain": [
       "['foo', 'bar', 'baz']"
      ]
     },
     "execution_count": 6,
     "metadata": {},
     "output_type": "execute_result"
    }
   ],
   "source": [
    "b_list"
   ]
  },
  {
   "cell_type": "code",
   "execution_count": 7,
   "id": "0e6d7735",
   "metadata": {},
   "outputs": [
    {
     "data": {
      "text/plain": [
       "'bar'"
      ]
     },
     "execution_count": 7,
     "metadata": {},
     "output_type": "execute_result"
    }
   ],
   "source": [
    "b_list[1]"
   ]
  },
  {
   "cell_type": "code",
   "execution_count": 8,
   "id": "ed5a773c",
   "metadata": {},
   "outputs": [],
   "source": [
    "#list function is frequently used in data processing as a way to marterialize\n",
    "#an iterator or generator expression"
   ]
  },
  {
   "cell_type": "code",
   "execution_count": 9,
   "id": "86652729",
   "metadata": {},
   "outputs": [],
   "source": [
    "gen = range(10)"
   ]
  },
  {
   "cell_type": "code",
   "execution_count": 10,
   "id": "f76e0cac",
   "metadata": {},
   "outputs": [
    {
     "data": {
      "text/plain": [
       "range(0, 10)"
      ]
     },
     "execution_count": 10,
     "metadata": {},
     "output_type": "execute_result"
    }
   ],
   "source": [
    "gen"
   ]
  },
  {
   "cell_type": "code",
   "execution_count": 11,
   "id": "a640aec4",
   "metadata": {},
   "outputs": [
    {
     "data": {
      "text/plain": [
       "[0, 1, 2, 3, 4, 5, 6, 7, 8, 9]"
      ]
     },
     "execution_count": 11,
     "metadata": {},
     "output_type": "execute_result"
    }
   ],
   "source": [
    "list(gen)"
   ]
  },
  {
   "cell_type": "code",
   "execution_count": 12,
   "id": "13c3bbd8",
   "metadata": {},
   "outputs": [],
   "source": [
    "#adding and removing elements"
   ]
  },
  {
   "cell_type": "code",
   "execution_count": 13,
   "id": "f550c2d0",
   "metadata": {},
   "outputs": [],
   "source": [
    "b_list.append('you')"
   ]
  },
  {
   "cell_type": "code",
   "execution_count": 14,
   "id": "2d2a3d5a",
   "metadata": {},
   "outputs": [
    {
     "data": {
      "text/plain": [
       "['foo', 'bar', 'baz', 'you']"
      ]
     },
     "execution_count": 14,
     "metadata": {},
     "output_type": "execute_result"
    }
   ],
   "source": [
    "b_list"
   ]
  },
  {
   "cell_type": "code",
   "execution_count": 15,
   "id": "f18bc14e",
   "metadata": {},
   "outputs": [],
   "source": [
    "#insert"
   ]
  },
  {
   "cell_type": "code",
   "execution_count": 17,
   "id": "54f125a7",
   "metadata": {},
   "outputs": [],
   "source": [
    "b_list.insert(1, 'red')"
   ]
  },
  {
   "cell_type": "code",
   "execution_count": 18,
   "id": "1aae3a40",
   "metadata": {},
   "outputs": [
    {
     "data": {
      "text/plain": [
       "['foo', 'red', 'bar', 'baz', 'you']"
      ]
     },
     "execution_count": 18,
     "metadata": {},
     "output_type": "execute_result"
    }
   ],
   "source": [
    "b_list"
   ]
  },
  {
   "cell_type": "code",
   "execution_count": 19,
   "id": "c9415b66",
   "metadata": {},
   "outputs": [],
   "source": [
    "#pop inverse of insert"
   ]
  },
  {
   "cell_type": "code",
   "execution_count": 20,
   "id": "cca6d2f7",
   "metadata": {},
   "outputs": [
    {
     "data": {
      "text/plain": [
       "'bar'"
      ]
     },
     "execution_count": 20,
     "metadata": {},
     "output_type": "execute_result"
    }
   ],
   "source": [
    "b_list.pop(2)"
   ]
  },
  {
   "cell_type": "code",
   "execution_count": 21,
   "id": "00f1fe69",
   "metadata": {},
   "outputs": [
    {
     "data": {
      "text/plain": [
       "['foo', 'red', 'baz', 'you']"
      ]
     },
     "execution_count": 21,
     "metadata": {},
     "output_type": "execute_result"
    }
   ],
   "source": [
    "b_list"
   ]
  },
  {
   "cell_type": "code",
   "execution_count": 22,
   "id": "14660ea7",
   "metadata": {},
   "outputs": [],
   "source": [
    "#elements can be removed by value"
   ]
  },
  {
   "cell_type": "code",
   "execution_count": 23,
   "id": "58e7dfad",
   "metadata": {},
   "outputs": [],
   "source": [
    "b_list.remove('red')"
   ]
  },
  {
   "cell_type": "code",
   "execution_count": 24,
   "id": "f82ba9ba",
   "metadata": {},
   "outputs": [
    {
     "data": {
      "text/plain": [
       "['foo', 'baz', 'you']"
      ]
     },
     "execution_count": 24,
     "metadata": {},
     "output_type": "execute_result"
    }
   ],
   "source": [
    "b_list"
   ]
  },
  {
   "cell_type": "code",
   "execution_count": 25,
   "id": "e9f79c08",
   "metadata": {},
   "outputs": [],
   "source": [
    "#check if a list contains particualr value"
   ]
  },
  {
   "cell_type": "code",
   "execution_count": 26,
   "id": "af37133a",
   "metadata": {},
   "outputs": [
    {
     "data": {
      "text/plain": [
       "True"
      ]
     },
     "execution_count": 26,
     "metadata": {},
     "output_type": "execute_result"
    }
   ],
   "source": [
    "'baz' in b_list"
   ]
  },
  {
   "cell_type": "code",
   "execution_count": 27,
   "id": "8898de84",
   "metadata": {},
   "outputs": [
    {
     "data": {
      "text/plain": [
       "True"
      ]
     },
     "execution_count": 27,
     "metadata": {},
     "output_type": "execute_result"
    }
   ],
   "source": [
    "'dwarf' not in b_list"
   ]
  },
  {
   "cell_type": "code",
   "execution_count": 28,
   "id": "d8d958c6",
   "metadata": {},
   "outputs": [],
   "source": [
    "#concatenating and combining lists"
   ]
  },
  {
   "cell_type": "code",
   "execution_count": 29,
   "id": "e06c3a11",
   "metadata": {},
   "outputs": [
    {
     "data": {
      "text/plain": [
       "[4, 'string', None, 2, 'you', False, (2, 3), 5]"
      ]
     },
     "execution_count": 29,
     "metadata": {},
     "output_type": "execute_result"
    }
   ],
   "source": [
    "[4, 'string', None] + [2, 'you', False] + [(2,3), 5]"
   ]
  },
  {
   "cell_type": "code",
   "execution_count": 30,
   "id": "3945249f",
   "metadata": {},
   "outputs": [],
   "source": [
    "#extend to append multiple elements"
   ]
  },
  {
   "cell_type": "code",
   "execution_count": 31,
   "id": "dc8d1e73",
   "metadata": {},
   "outputs": [],
   "source": [
    "x = [2, 3]"
   ]
  },
  {
   "cell_type": "code",
   "execution_count": 32,
   "id": "870a72fb",
   "metadata": {},
   "outputs": [],
   "source": [
    "x.extend(['you', 'are'])"
   ]
  },
  {
   "cell_type": "code",
   "execution_count": 33,
   "id": "59205a30",
   "metadata": {},
   "outputs": [
    {
     "data": {
      "text/plain": [
       "[2, 3, 'you', 'are']"
      ]
     },
     "execution_count": 33,
     "metadata": {},
     "output_type": "execute_result"
    }
   ],
   "source": [
    "x"
   ]
  },
  {
   "cell_type": "code",
   "execution_count": 34,
   "id": "0bf87b44",
   "metadata": {},
   "outputs": [],
   "source": [
    "#sort"
   ]
  },
  {
   "cell_type": "code",
   "execution_count": 35,
   "id": "1fd0828b",
   "metadata": {},
   "outputs": [],
   "source": [
    "a = [1, 2, 3, 5, 3, 2, 4, 5, 2, 0]"
   ]
  },
  {
   "cell_type": "code",
   "execution_count": 36,
   "id": "1776fd3d",
   "metadata": {},
   "outputs": [],
   "source": [
    "a.sort()"
   ]
  },
  {
   "cell_type": "code",
   "execution_count": 37,
   "id": "edb53161",
   "metadata": {},
   "outputs": [
    {
     "data": {
      "text/plain": [
       "[0, 1, 2, 2, 2, 3, 3, 4, 5, 5]"
      ]
     },
     "execution_count": 37,
     "metadata": {},
     "output_type": "execute_result"
    }
   ],
   "source": [
    "a"
   ]
  },
  {
   "cell_type": "code",
   "execution_count": 38,
   "id": "25569960",
   "metadata": {},
   "outputs": [],
   "source": [
    "#sort a collection of strings by their lengths"
   ]
  },
  {
   "cell_type": "code",
   "execution_count": 39,
   "id": "720d3d67",
   "metadata": {},
   "outputs": [],
   "source": [
    "b = ['hi', 'u', 'great', 'expensive']"
   ]
  },
  {
   "cell_type": "code",
   "execution_count": 43,
   "id": "98d513cb",
   "metadata": {},
   "outputs": [],
   "source": [
    "b.sort(key=len)"
   ]
  },
  {
   "cell_type": "code",
   "execution_count": 44,
   "id": "864f0385",
   "metadata": {},
   "outputs": [
    {
     "data": {
      "text/plain": [
       "['u', 'hi', 'great', 'expensive']"
      ]
     },
     "execution_count": 44,
     "metadata": {},
     "output_type": "execute_result"
    }
   ],
   "source": [
    "b"
   ]
  },
  {
   "cell_type": "code",
   "execution_count": 45,
   "id": "b590239e",
   "metadata": {},
   "outputs": [],
   "source": [
    "#Binary search and maintaining a sorted list"
   ]
  },
  {
   "cell_type": "code",
   "execution_count": 46,
   "id": "a3c2359f",
   "metadata": {},
   "outputs": [],
   "source": [
    "import bisect"
   ]
  },
  {
   "cell_type": "code",
   "execution_count": 53,
   "id": "bd7339e9",
   "metadata": {},
   "outputs": [],
   "source": [
    "c = [1, 3, 4, 3, 5, 5]"
   ]
  },
  {
   "cell_type": "code",
   "execution_count": 54,
   "id": "90222437",
   "metadata": {},
   "outputs": [
    {
     "data": {
      "text/plain": [
       "6"
      ]
     },
     "execution_count": 54,
     "metadata": {},
     "output_type": "execute_result"
    }
   ],
   "source": [
    "bisect.bisect(c, 8)"
   ]
  },
  {
   "cell_type": "code",
   "execution_count": 55,
   "id": "939c05c7",
   "metadata": {},
   "outputs": [
    {
     "data": {
      "text/plain": [
       "4"
      ]
     },
     "execution_count": 55,
     "metadata": {},
     "output_type": "execute_result"
    }
   ],
   "source": [
    "bisect.bisect(c, 4) #where the number should be inserted"
   ]
  },
  {
   "cell_type": "code",
   "execution_count": 56,
   "id": "c61accb9",
   "metadata": {},
   "outputs": [],
   "source": [
    "bisect.insort(c, 0 ) #inserts the element"
   ]
  },
  {
   "cell_type": "code",
   "execution_count": 57,
   "id": "b710a961",
   "metadata": {},
   "outputs": [
    {
     "data": {
      "text/plain": [
       "[0, 1, 3, 4, 3, 5, 5]"
      ]
     },
     "execution_count": 57,
     "metadata": {},
     "output_type": "execute_result"
    }
   ],
   "source": [
    "c"
   ]
  },
  {
   "cell_type": "code",
   "execution_count": 58,
   "id": "117250c6",
   "metadata": {},
   "outputs": [],
   "source": [
    "#slicing, to select a portion of the list"
   ]
  },
  {
   "cell_type": "code",
   "execution_count": 59,
   "id": "1596b11c",
   "metadata": {},
   "outputs": [],
   "source": [
    "seq = [1, 3, 5, 4, 2, 4]"
   ]
  },
  {
   "cell_type": "code",
   "execution_count": 60,
   "id": "c20a1e3a",
   "metadata": {},
   "outputs": [
    {
     "data": {
      "text/plain": [
       "[3, 5, 4]"
      ]
     },
     "execution_count": 60,
     "metadata": {},
     "output_type": "execute_result"
    }
   ],
   "source": [
    "seq[1:4]"
   ]
  },
  {
   "cell_type": "code",
   "execution_count": 61,
   "id": "91444809",
   "metadata": {},
   "outputs": [],
   "source": [
    "#slices can also be assigned to with a sequence"
   ]
  },
  {
   "cell_type": "code",
   "execution_count": 62,
   "id": "20192d3d",
   "metadata": {},
   "outputs": [],
   "source": [
    "seq[3:4] = [3,2]"
   ]
  },
  {
   "cell_type": "code",
   "execution_count": 63,
   "id": "198e465e",
   "metadata": {},
   "outputs": [
    {
     "data": {
      "text/plain": [
       "[1, 3, 5, 3, 2, 2, 4]"
      ]
     },
     "execution_count": 63,
     "metadata": {},
     "output_type": "execute_result"
    }
   ],
   "source": [
    "seq"
   ]
  },
  {
   "cell_type": "code",
   "execution_count": null,
   "id": "e74d4c19",
   "metadata": {},
   "outputs": [],
   "source": []
  }
 ],
 "metadata": {
  "kernelspec": {
   "display_name": "Python 3 (ipykernel)",
   "language": "python",
   "name": "python3"
  },
  "language_info": {
   "codemirror_mode": {
    "name": "ipython",
    "version": 3
   },
   "file_extension": ".py",
   "mimetype": "text/x-python",
   "name": "python",
   "nbconvert_exporter": "python",
   "pygments_lexer": "ipython3",
   "version": "3.10.5"
  }
 },
 "nbformat": 4,
 "nbformat_minor": 5
}
