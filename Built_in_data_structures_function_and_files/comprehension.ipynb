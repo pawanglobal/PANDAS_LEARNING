{
 "cells": [
  {
   "cell_type": "code",
   "execution_count": 2,
   "id": "d6d50842",
   "metadata": {},
   "outputs": [],
   "source": [
    "#list comprehension\n",
    "strings = ['a', 'as', 'bat', 'car', 'drove', 'python']"
   ]
  },
  {
   "cell_type": "code",
   "execution_count": 3,
   "id": "70bfc2fa",
   "metadata": {},
   "outputs": [
    {
     "data": {
      "text/plain": [
       "['BAT', 'CAR', 'DROVE', 'PYTHON']"
      ]
     },
     "execution_count": 3,
     "metadata": {},
     "output_type": "execute_result"
    }
   ],
   "source": [
    "[x.upper() for x in strings if len(x) > 2]"
   ]
  },
  {
   "cell_type": "code",
   "execution_count": 4,
   "id": "20667688",
   "metadata": {},
   "outputs": [],
   "source": [
    " #dictionary comprehension"
   ]
  },
  {
   "cell_type": "code",
   "execution_count": 3,
   "id": "203a388c",
   "metadata": {},
   "outputs": [],
   "source": [
    "unique_lengths = {len(x) for x in strings}"
   ]
  },
  {
   "cell_type": "code",
   "execution_count": 4,
   "id": "41e3cc19",
   "metadata": {},
   "outputs": [
    {
     "data": {
      "text/plain": [
       "{1, 2, 3, 5, 6}"
      ]
     },
     "execution_count": 4,
     "metadata": {},
     "output_type": "execute_result"
    }
   ],
   "source": [
    "unique_lengths"
   ]
  },
  {
   "cell_type": "code",
   "execution_count": 5,
   "id": "c61960c9",
   "metadata": {},
   "outputs": [],
   "source": [
    "#map function"
   ]
  },
  {
   "cell_type": "code",
   "execution_count": 6,
   "id": "39a3dba0",
   "metadata": {},
   "outputs": [
    {
     "data": {
      "text/plain": [
       "{1, 2, 3, 5, 6}"
      ]
     },
     "execution_count": 6,
     "metadata": {},
     "output_type": "execute_result"
    }
   ],
   "source": [
    "set(map(len, strings))"
   ]
  },
  {
   "cell_type": "code",
   "execution_count": 7,
   "id": "c52f20bd",
   "metadata": {},
   "outputs": [],
   "source": [
    "#lookup map of these strings to thier locations in the list:"
   ]
  },
  {
   "cell_type": "code",
   "execution_count": 8,
   "id": "1077e6a9",
   "metadata": {},
   "outputs": [],
   "source": [
    "loc_mapping = {val : index for index, val in enumerate(strings)}"
   ]
  },
  {
   "cell_type": "code",
   "execution_count": 9,
   "id": "dc22b2bd",
   "metadata": {},
   "outputs": [
    {
     "data": {
      "text/plain": [
       "{'a': 0, 'as': 1, 'bat': 2, 'car': 3, 'drove': 4, 'python': 5}"
      ]
     },
     "execution_count": 9,
     "metadata": {},
     "output_type": "execute_result"
    }
   ],
   "source": [
    "loc_mapping"
   ]
  },
  {
   "cell_type": "code",
   "execution_count": 10,
   "id": "1379c624",
   "metadata": {},
   "outputs": [],
   "source": [
    "#Nested list comprehensions"
   ]
  },
  {
   "cell_type": "code",
   "execution_count": 11,
   "id": "3f3eb97f",
   "metadata": {},
   "outputs": [],
   "source": [
    "all_data = [['jonh', 'emily', 'michael', 'mary'], \n",
    "            ['marta', 'juan', 'javier', 'natalia']]"
   ]
  },
  {
   "cell_type": "code",
   "execution_count": 19,
   "id": "55e64ea9",
   "metadata": {},
   "outputs": [],
   "source": [
    "result = [name for names in all_data for name in names if name.count('a') >= 2]"
   ]
  },
  {
   "cell_type": "code",
   "execution_count": 20,
   "id": "b9fc6d71",
   "metadata": {},
   "outputs": [
    {
     "data": {
      "text/plain": [
       "['marta', 'natalia']"
      ]
     },
     "execution_count": 20,
     "metadata": {},
     "output_type": "execute_result"
    }
   ],
   "source": [
    "result"
   ]
  },
  {
   "cell_type": "code",
   "execution_count": 21,
   "id": "9005c502",
   "metadata": {},
   "outputs": [],
   "source": [
    "#flatten the tuples"
   ]
  },
  {
   "cell_type": "code",
   "execution_count": 22,
   "id": "d90bf5d6",
   "metadata": {},
   "outputs": [],
   "source": [
    "some_tuples = [(1, 2, 3), (4, 5, 6), (7, 8, 9)]"
   ]
  },
  {
   "cell_type": "code",
   "execution_count": 23,
   "id": "1feeaf63",
   "metadata": {},
   "outputs": [],
   "source": [
    "flattened = [x for tup in some_tuples for x in tup]"
   ]
  },
  {
   "cell_type": "code",
   "execution_count": 24,
   "id": "8c2f00e9",
   "metadata": {},
   "outputs": [
    {
     "data": {
      "text/plain": [
       "[1, 2, 3, 4, 5, 6, 7, 8, 9]"
      ]
     },
     "execution_count": 24,
     "metadata": {},
     "output_type": "execute_result"
    }
   ],
   "source": [
    "flattened"
   ]
  },
  {
   "cell_type": "code",
   "execution_count": 26,
   "id": "ab274f36",
   "metadata": {},
   "outputs": [],
   "source": [
    "#it is same as \n",
    "flattened = []\n",
    "for tup in some_tuples:\n",
    "    for x in tup:\n",
    "        flattened.append(x)"
   ]
  },
  {
   "cell_type": "code",
   "execution_count": 27,
   "id": "f65af4d2",
   "metadata": {},
   "outputs": [
    {
     "data": {
      "text/plain": [
       "[1, 2, 3, 4, 5, 6, 7, 8, 9]"
      ]
     },
     "execution_count": 27,
     "metadata": {},
     "output_type": "execute_result"
    }
   ],
   "source": [
    "flattened"
   ]
  },
  {
   "cell_type": "code",
   "execution_count": 28,
   "id": "9a2c7b97",
   "metadata": {},
   "outputs": [],
   "source": [
    "#list of tuples\n",
    "#In nesting always see things from a readability standpoint do things make sense"
   ]
  },
  {
   "cell_type": "code",
   "execution_count": 29,
   "id": "efbb0817",
   "metadata": {},
   "outputs": [
    {
     "data": {
      "text/plain": [
       "[[1, 2, 3], [4, 5, 6], [7, 8, 9]]"
      ]
     },
     "execution_count": 29,
     "metadata": {},
     "output_type": "execute_result"
    }
   ],
   "source": [
    "[[x for x in tup] for tup in some_tuples]"
   ]
  }
 ],
 "metadata": {
  "kernelspec": {
   "display_name": "Python 3 (ipykernel)",
   "language": "python",
   "name": "python3"
  },
  "language_info": {
   "codemirror_mode": {
    "name": "ipython",
    "version": 3
   },
   "file_extension": ".py",
   "mimetype": "text/x-python",
   "name": "python",
   "nbconvert_exporter": "python",
   "pygments_lexer": "ipython3",
   "version": "3.10.5"
  }
 },
 "nbformat": 4,
 "nbformat_minor": 5
}
