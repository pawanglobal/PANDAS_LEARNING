{
 "cells": [
  {
   "cell_type": "code",
   "execution_count": 1,
   "id": "8fc6bc24",
   "metadata": {},
   "outputs": [],
   "source": [
    "#hash map; associative array; most important built-in data structure"
   ]
  },
  {
   "cell_type": "code",
   "execution_count": 2,
   "id": "29cf6845",
   "metadata": {},
   "outputs": [],
   "source": [
    "d1 = {'a' : 'some value', 'b' : [1, 4, 5, 4, 4]}"
   ]
  },
  {
   "cell_type": "code",
   "execution_count": 3,
   "id": "2aae6a94",
   "metadata": {},
   "outputs": [
    {
     "data": {
      "text/plain": [
       "{'a': 'some value', 'b': [1, 4, 5, 4, 4]}"
      ]
     },
     "execution_count": 3,
     "metadata": {},
     "output_type": "execute_result"
    }
   ],
   "source": [
    "d1"
   ]
  },
  {
   "cell_type": "code",
   "execution_count": 4,
   "id": "e5c0c38a",
   "metadata": {},
   "outputs": [],
   "source": [
    "#insert"
   ]
  },
  {
   "cell_type": "code",
   "execution_count": 5,
   "id": "a5c2765a",
   "metadata": {},
   "outputs": [],
   "source": [
    "d1[2] = 'how are you'"
   ]
  },
  {
   "cell_type": "code",
   "execution_count": 6,
   "id": "7fac221f",
   "metadata": {},
   "outputs": [
    {
     "data": {
      "text/plain": [
       "{'a': 'some value', 'b': [1, 4, 5, 4, 4], 2: 'how are you'}"
      ]
     },
     "execution_count": 6,
     "metadata": {},
     "output_type": "execute_result"
    }
   ],
   "source": [
    "d1"
   ]
  },
  {
   "cell_type": "code",
   "execution_count": 7,
   "id": "cacaddcc",
   "metadata": {},
   "outputs": [],
   "source": [
    "#checking an element"
   ]
  },
  {
   "cell_type": "code",
   "execution_count": 8,
   "id": "d503109f",
   "metadata": {},
   "outputs": [
    {
     "data": {
      "text/plain": [
       "True"
      ]
     },
     "execution_count": 8,
     "metadata": {},
     "output_type": "execute_result"
    }
   ],
   "source": [
    "'b' in d1"
   ]
  },
  {
   "cell_type": "code",
   "execution_count": 9,
   "id": "0dd1d7ce",
   "metadata": {},
   "outputs": [],
   "source": [
    "#delete and pop"
   ]
  },
  {
   "cell_type": "code",
   "execution_count": 11,
   "id": "94f8339b",
   "metadata": {},
   "outputs": [],
   "source": [
    "d1[5] = 'some value'"
   ]
  },
  {
   "cell_type": "code",
   "execution_count": 12,
   "id": "0024258f",
   "metadata": {},
   "outputs": [
    {
     "data": {
      "text/plain": [
       "{'a': 'some value', 'b': [1, 4, 5, 4, 4], 2: 'how are you', 5: 'some value'}"
      ]
     },
     "execution_count": 12,
     "metadata": {},
     "output_type": "execute_result"
    }
   ],
   "source": [
    "d1"
   ]
  },
  {
   "cell_type": "code",
   "execution_count": 13,
   "id": "c7db0a35",
   "metadata": {},
   "outputs": [],
   "source": [
    "del d1[5]"
   ]
  },
  {
   "cell_type": "code",
   "execution_count": 15,
   "id": "5ccca23c",
   "metadata": {},
   "outputs": [
    {
     "data": {
      "text/plain": [
       "{'a': 'some value', 'b': [1, 4, 5, 4, 4], 2: 'how are you'}"
      ]
     },
     "execution_count": 15,
     "metadata": {},
     "output_type": "execute_result"
    }
   ],
   "source": [
    "d1"
   ]
  },
  {
   "cell_type": "code",
   "execution_count": 17,
   "id": "795a47e7",
   "metadata": {},
   "outputs": [],
   "source": [
    "ret = d1.pop(2)"
   ]
  },
  {
   "cell_type": "code",
   "execution_count": 18,
   "id": "d0a9c408",
   "metadata": {},
   "outputs": [
    {
     "data": {
      "text/plain": [
       "'how are you'"
      ]
     },
     "execution_count": 18,
     "metadata": {},
     "output_type": "execute_result"
    }
   ],
   "source": [
    "ret"
   ]
  },
  {
   "cell_type": "code",
   "execution_count": 19,
   "id": "aeee9e7d",
   "metadata": {},
   "outputs": [
    {
     "data": {
      "text/plain": [
       "{'a': 'some value', 'b': [1, 4, 5, 4, 4]}"
      ]
     },
     "execution_count": 19,
     "metadata": {},
     "output_type": "execute_result"
    }
   ],
   "source": [
    "d1"
   ]
  },
  {
   "cell_type": "code",
   "execution_count": 20,
   "id": "40de89a8",
   "metadata": {},
   "outputs": [],
   "source": [
    "#keys-vlaue pairs are not in any particular order, these functions\n",
    "#output the keys and values in the same order"
   ]
  },
  {
   "cell_type": "code",
   "execution_count": 21,
   "id": "5d8f3472",
   "metadata": {},
   "outputs": [
    {
     "data": {
      "text/plain": [
       "['a', 'b']"
      ]
     },
     "execution_count": 21,
     "metadata": {},
     "output_type": "execute_result"
    }
   ],
   "source": [
    "list(d1.keys())"
   ]
  },
  {
   "cell_type": "code",
   "execution_count": 22,
   "id": "aa0dda6d",
   "metadata": {},
   "outputs": [
    {
     "data": {
      "text/plain": [
       "['some value', [1, 4, 5, 4, 4]]"
      ]
     },
     "execution_count": 22,
     "metadata": {},
     "output_type": "execute_result"
    }
   ],
   "source": [
    "list(d1.values())"
   ]
  },
  {
   "cell_type": "code",
   "execution_count": 23,
   "id": "ef1aa369",
   "metadata": {},
   "outputs": [],
   "source": [
    "#merge by update"
   ]
  },
  {
   "cell_type": "code",
   "execution_count": 24,
   "id": "fc1173e1",
   "metadata": {},
   "outputs": [],
   "source": [
    "d1.update({'b': 'foo', 'c' : 12})"
   ]
  },
  {
   "cell_type": "code",
   "execution_count": 25,
   "id": "2924c05c",
   "metadata": {},
   "outputs": [
    {
     "data": {
      "text/plain": [
       "{'a': 'some value', 'b': 'foo', 'c': 12}"
      ]
     },
     "execution_count": 25,
     "metadata": {},
     "output_type": "execute_result"
    }
   ],
   "source": [
    "d1"
   ]
  },
  {
   "cell_type": "code",
   "execution_count": 26,
   "id": "7d8b80d5",
   "metadata": {},
   "outputs": [],
   "source": [
    "#creating dicts from sequences"
   ]
  },
  {
   "cell_type": "code",
   "execution_count": 27,
   "id": "75effece",
   "metadata": {},
   "outputs": [],
   "source": [
    "mapping = dict(zip(range(5), reversed(range(5))))"
   ]
  },
  {
   "cell_type": "code",
   "execution_count": 28,
   "id": "02224a39",
   "metadata": {},
   "outputs": [
    {
     "data": {
      "text/plain": [
       "{0: 4, 1: 3, 2: 2, 3: 1, 4: 0}"
      ]
     },
     "execution_count": 28,
     "metadata": {},
     "output_type": "execute_result"
    }
   ],
   "source": [
    "mapping"
   ]
  },
  {
   "cell_type": "code",
   "execution_count": 29,
   "id": "5d9cc347",
   "metadata": {},
   "outputs": [],
   "source": [
    "#default values"
   ]
  },
  {
   "cell_type": "code",
   "execution_count": 30,
   "id": "0f1a2c4d",
   "metadata": {},
   "outputs": [],
   "source": [
    "words = ['apple', 'bat', 'bar', 'atom', 'book']"
   ]
  },
  {
   "cell_type": "code",
   "execution_count": 31,
   "id": "d223b930",
   "metadata": {},
   "outputs": [],
   "source": [
    "by_letter = {}"
   ]
  },
  {
   "cell_type": "code",
   "execution_count": 34,
   "id": "d57d2911",
   "metadata": {},
   "outputs": [],
   "source": [
    "for word in words:\n",
    "    letter = word[0]\n",
    "    if letter not in by_letter:\n",
    "        by_letter[letter] = [word]\n",
    "    else:\n",
    "        by_letter[letter].append(word)"
   ]
  },
  {
   "cell_type": "code",
   "execution_count": 35,
   "id": "cac5cd53",
   "metadata": {},
   "outputs": [
    {
     "data": {
      "text/plain": [
       "{'a': ['apple', 'atom'], 'b': ['bat', 'bar', 'book']}"
      ]
     },
     "execution_count": 35,
     "metadata": {},
     "output_type": "execute_result"
    }
   ],
   "source": [
    "by_letter"
   ]
  },
  {
   "cell_type": "code",
   "execution_count": 36,
   "id": "a92efacd",
   "metadata": {},
   "outputs": [],
   "source": [
    "#in short"
   ]
  },
  {
   "cell_type": "code",
   "execution_count": 37,
   "id": "bdae013e",
   "metadata": {},
   "outputs": [],
   "source": [
    "for word in words:\n",
    "    letter = word[0]\n",
    "    by_letter.setdefault(letter, []).append(word)"
   ]
  },
  {
   "cell_type": "code",
   "execution_count": 38,
   "id": "ba1d312e",
   "metadata": {},
   "outputs": [],
   "source": [
    "#collection module has a useful defaultdict"
   ]
  },
  {
   "cell_type": "code",
   "execution_count": 39,
   "id": "ea71d795",
   "metadata": {},
   "outputs": [],
   "source": [
    "from collections import defaultdict"
   ]
  },
  {
   "cell_type": "code",
   "execution_count": 40,
   "id": "c521e0af",
   "metadata": {},
   "outputs": [],
   "source": [
    "by_letter = defaultdict(list)"
   ]
  },
  {
   "cell_type": "code",
   "execution_count": 41,
   "id": "fdd64496",
   "metadata": {},
   "outputs": [],
   "source": [
    "for word in words:\n",
    "    by_letter[word[0]].append(word)"
   ]
  },
  {
   "cell_type": "code",
   "execution_count": 42,
   "id": "97c7b2e3",
   "metadata": {},
   "outputs": [],
   "source": [
    "#valid dict key types, use hash"
   ]
  },
  {
   "cell_type": "code",
   "execution_count": 43,
   "id": "94532aa7",
   "metadata": {},
   "outputs": [
    {
     "data": {
      "text/plain": [
       "6190089305808820876"
      ]
     },
     "execution_count": 43,
     "metadata": {},
     "output_type": "execute_result"
    }
   ],
   "source": [
    "hash('string')"
   ]
  }
 ],
 "metadata": {
  "kernelspec": {
   "display_name": "Python 3 (ipykernel)",
   "language": "python",
   "name": "python3"
  },
  "language_info": {
   "codemirror_mode": {
    "name": "ipython",
    "version": 3
   },
   "file_extension": ".py",
   "mimetype": "text/x-python",
   "name": "python",
   "nbconvert_exporter": "python",
   "pygments_lexer": "ipython3",
   "version": "3.10.5"
  }
 },
 "nbformat": 4,
 "nbformat_minor": 5
}
